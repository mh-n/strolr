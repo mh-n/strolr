{
 "cells": [
  {
   "cell_type": "code",
   "execution_count": 1,
   "metadata": {
    "colab": {
     "base_uri": "https://localhost:8080/"
    },
    "id": "ztHawV1vHtFT",
    "outputId": "6cca548b-9b9d-4c03-a259-395542573fee"
   },
   "outputs": [
    {
     "name": "stdout",
     "output_type": "stream",
     "text": [
      "Collecting pgvector\n",
      "  Downloading pgvector-0.2.4-py2.py3-none-any.whl (9.6 kB)\n",
      "Requirement already satisfied: numpy in /Users/irattse1/opt/anaconda3/lib/python3.8/site-packages (from pgvector) (1.24.4)\n",
      "Installing collected packages: pgvector\n",
      "Successfully installed pgvector-0.2.4\n",
      "Requirement already satisfied: langchain in /Users/irattse1/opt/anaconda3/lib/python3.8/site-packages (0.0.351)\n",
      "Requirement already satisfied: requests<3,>=2 in /Users/irattse1/opt/anaconda3/lib/python3.8/site-packages (from langchain) (2.31.0)\n",
      "Requirement already satisfied: PyYAML>=5.3 in /Users/irattse1/opt/anaconda3/lib/python3.8/site-packages (from langchain) (6.0.1)\n",
      "Requirement already satisfied: numpy<2,>=1 in /Users/irattse1/opt/anaconda3/lib/python3.8/site-packages (from langchain) (1.24.4)\n",
      "Requirement already satisfied: SQLAlchemy<3,>=1.4 in /Users/irattse1/opt/anaconda3/lib/python3.8/site-packages (from langchain) (1.4.7)\n",
      "Requirement already satisfied: tenacity<9.0.0,>=8.1.0 in /Users/irattse1/opt/anaconda3/lib/python3.8/site-packages (from langchain) (8.2.3)\n",
      "Requirement already satisfied: langchain-core<0.2,>=0.1 in /Users/irattse1/opt/anaconda3/lib/python3.8/site-packages (from langchain) (0.1.1)\n",
      "Requirement already satisfied: langchain-community<0.1,>=0.0.2 in /Users/irattse1/opt/anaconda3/lib/python3.8/site-packages (from langchain) (0.0.4)\n",
      "Requirement already satisfied: jsonpatch<2.0,>=1.33 in /Users/irattse1/opt/anaconda3/lib/python3.8/site-packages (from langchain) (1.33)\n",
      "Requirement already satisfied: langsmith<0.1.0,>=0.0.70 in /Users/irattse1/opt/anaconda3/lib/python3.8/site-packages (from langchain) (0.0.72)\n",
      "Requirement already satisfied: pydantic<3,>=1 in /Users/irattse1/opt/anaconda3/lib/python3.8/site-packages (from langchain) (1.10.13)\n",
      "Requirement already satisfied: aiohttp<4.0.0,>=3.8.3 in /Users/irattse1/opt/anaconda3/lib/python3.8/site-packages (from langchain) (3.9.1)\n",
      "Requirement already satisfied: async-timeout<5.0.0,>=4.0.0 in /Users/irattse1/opt/anaconda3/lib/python3.8/site-packages (from langchain) (4.0.3)\n",
      "Requirement already satisfied: dataclasses-json<0.7,>=0.5.7 in /Users/irattse1/opt/anaconda3/lib/python3.8/site-packages (from langchain) (0.6.3)\n",
      "Requirement already satisfied: attrs>=17.3.0 in /Users/irattse1/opt/anaconda3/lib/python3.8/site-packages (from aiohttp<4.0.0,>=3.8.3->langchain) (23.1.0)\n",
      "Requirement already satisfied: multidict<7.0,>=4.5 in /Users/irattse1/opt/anaconda3/lib/python3.8/site-packages (from aiohttp<4.0.0,>=3.8.3->langchain) (6.0.4)\n",
      "Requirement already satisfied: frozenlist>=1.1.1 in /Users/irattse1/opt/anaconda3/lib/python3.8/site-packages (from aiohttp<4.0.0,>=3.8.3->langchain) (1.4.1)\n",
      "Requirement already satisfied: yarl<2.0,>=1.0 in /Users/irattse1/opt/anaconda3/lib/python3.8/site-packages (from aiohttp<4.0.0,>=3.8.3->langchain) (1.9.4)\n",
      "Requirement already satisfied: aiosignal>=1.1.2 in /Users/irattse1/opt/anaconda3/lib/python3.8/site-packages (from aiohttp<4.0.0,>=3.8.3->langchain) (1.3.1)\n",
      "Requirement already satisfied: marshmallow<4.0.0,>=3.18.0 in /Users/irattse1/opt/anaconda3/lib/python3.8/site-packages (from dataclasses-json<0.7,>=0.5.7->langchain) (3.20.1)\n",
      "Requirement already satisfied: typing-inspect<1,>=0.4.0 in /Users/irattse1/opt/anaconda3/lib/python3.8/site-packages (from dataclasses-json<0.7,>=0.5.7->langchain) (0.9.0)\n",
      "Requirement already satisfied: jsonpointer>=1.9 in /Users/irattse1/opt/anaconda3/lib/python3.8/site-packages (from jsonpatch<2.0,>=1.33->langchain) (2.4)\n",
      "Requirement already satisfied: anyio<5,>=3 in /Users/irattse1/opt/anaconda3/lib/python3.8/site-packages (from langchain-core<0.2,>=0.1->langchain) (4.2.0)\n",
      "Requirement already satisfied: packaging<24.0,>=23.2 in /Users/irattse1/opt/anaconda3/lib/python3.8/site-packages (from langchain-core<0.2,>=0.1->langchain) (23.2)\n",
      "Requirement already satisfied: sniffio>=1.1 in /Users/irattse1/opt/anaconda3/lib/python3.8/site-packages (from anyio<5,>=3->langchain-core<0.2,>=0.1->langchain) (1.2.0)\n",
      "Requirement already satisfied: exceptiongroup>=1.0.2 in /Users/irattse1/opt/anaconda3/lib/python3.8/site-packages (from anyio<5,>=3->langchain-core<0.2,>=0.1->langchain) (1.2.0)\n",
      "Requirement already satisfied: idna>=2.8 in /Users/irattse1/opt/anaconda3/lib/python3.8/site-packages (from anyio<5,>=3->langchain-core<0.2,>=0.1->langchain) (3.6)\n",
      "Requirement already satisfied: typing-extensions>=4.1 in /Users/irattse1/opt/anaconda3/lib/python3.8/site-packages (from anyio<5,>=3->langchain-core<0.2,>=0.1->langchain) (4.9.0)\n",
      "Requirement already satisfied: urllib3<3,>=1.21.1 in /Users/irattse1/opt/anaconda3/lib/python3.8/site-packages (from requests<3,>=2->langchain) (2.1.0)\n",
      "Requirement already satisfied: charset-normalizer<4,>=2 in /Users/irattse1/opt/anaconda3/lib/python3.8/site-packages (from requests<3,>=2->langchain) (3.3.2)\n",
      "Requirement already satisfied: certifi>=2017.4.17 in /Users/irattse1/opt/anaconda3/lib/python3.8/site-packages (from requests<3,>=2->langchain) (2023.11.17)\n",
      "Requirement already satisfied: greenlet!=0.4.17 in /Users/irattse1/opt/anaconda3/lib/python3.8/site-packages (from SQLAlchemy<3,>=1.4->langchain) (1.0.0)\n",
      "Requirement already satisfied: mypy-extensions>=0.3.0 in /Users/irattse1/opt/anaconda3/lib/python3.8/site-packages (from typing-inspect<1,>=0.4.0->dataclasses-json<0.7,>=0.5.7->langchain) (0.4.3)\n",
      "Requirement already satisfied: openai in /Users/irattse1/opt/anaconda3/lib/python3.8/site-packages (1.5.0)\n",
      "Requirement already satisfied: httpx<1,>=0.23.0 in /Users/irattse1/opt/anaconda3/lib/python3.8/site-packages (from openai) (0.25.2)\n",
      "Requirement already satisfied: anyio<5,>=3.5.0 in /Users/irattse1/opt/anaconda3/lib/python3.8/site-packages (from openai) (4.2.0)\n",
      "Requirement already satisfied: typing-extensions<5,>=4.5 in /Users/irattse1/opt/anaconda3/lib/python3.8/site-packages (from openai) (4.9.0)\n",
      "Requirement already satisfied: tqdm>4 in /Users/irattse1/opt/anaconda3/lib/python3.8/site-packages (from openai) (4.59.0)\n",
      "Requirement already satisfied: sniffio in /Users/irattse1/opt/anaconda3/lib/python3.8/site-packages (from openai) (1.2.0)\n",
      "Requirement already satisfied: pydantic<3,>=1.9.0 in /Users/irattse1/opt/anaconda3/lib/python3.8/site-packages (from openai) (1.10.13)\n",
      "Requirement already satisfied: distro<2,>=1.7.0 in /Users/irattse1/opt/anaconda3/lib/python3.8/site-packages (from openai) (1.8.0)\n",
      "Requirement already satisfied: idna>=2.8 in /Users/irattse1/opt/anaconda3/lib/python3.8/site-packages (from anyio<5,>=3.5.0->openai) (3.6)\n",
      "Requirement already satisfied: exceptiongroup>=1.0.2 in /Users/irattse1/opt/anaconda3/lib/python3.8/site-packages (from anyio<5,>=3.5.0->openai) (1.2.0)\n",
      "Requirement already satisfied: certifi in /Users/irattse1/opt/anaconda3/lib/python3.8/site-packages (from httpx<1,>=0.23.0->openai) (2023.11.17)\n",
      "Requirement already satisfied: httpcore==1.* in /Users/irattse1/opt/anaconda3/lib/python3.8/site-packages (from httpx<1,>=0.23.0->openai) (1.0.2)\n",
      "Requirement already satisfied: h11<0.15,>=0.13 in /Users/irattse1/opt/anaconda3/lib/python3.8/site-packages (from httpcore==1.*->httpx<1,>=0.23.0->openai) (0.14.0)\n",
      "Collecting psycopg2-binary\n",
      "  Downloading psycopg2_binary-2.9.9-cp38-cp38-macosx_10_9_x86_64.whl (2.8 MB)\n",
      "\u001b[K     |████████████████████████████████| 2.8 MB 6.6 MB/s eta 0:00:01\n",
      "\u001b[?25hInstalling collected packages: psycopg2-binary\n",
      "Successfully installed psycopg2-binary-2.9.9\n",
      "Collecting tiktoken\n",
      "  Downloading tiktoken-0.5.2-cp38-cp38-macosx_10_9_x86_64.whl (1.0 MB)\n",
      "\u001b[K     |████████████████████████████████| 1.0 MB 5.4 MB/s eta 0:00:01\n",
      "\u001b[?25hCollecting regex>=2022.1.18\n",
      "  Downloading regex-2023.12.25-cp38-cp38-macosx_10_9_x86_64.whl (296 kB)\n",
      "\u001b[K     |████████████████████████████████| 296 kB 32.7 MB/s eta 0:00:01\n",
      "\u001b[?25hRequirement already satisfied: requests>=2.26.0 in /Users/irattse1/opt/anaconda3/lib/python3.8/site-packages (from tiktoken) (2.31.0)\n",
      "Requirement already satisfied: idna<4,>=2.5 in /Users/irattse1/opt/anaconda3/lib/python3.8/site-packages (from requests>=2.26.0->tiktoken) (3.6)\n",
      "Requirement already satisfied: certifi>=2017.4.17 in /Users/irattse1/opt/anaconda3/lib/python3.8/site-packages (from requests>=2.26.0->tiktoken) (2023.11.17)\n",
      "Requirement already satisfied: urllib3<3,>=1.21.1 in /Users/irattse1/opt/anaconda3/lib/python3.8/site-packages (from requests>=2.26.0->tiktoken) (2.1.0)\n",
      "Requirement already satisfied: charset-normalizer<4,>=2 in /Users/irattse1/opt/anaconda3/lib/python3.8/site-packages (from requests>=2.26.0->tiktoken) (3.3.2)\n"
     ]
    },
    {
     "name": "stdout",
     "output_type": "stream",
     "text": [
      "Installing collected packages: regex, tiktoken\n",
      "  Attempting uninstall: regex\n",
      "    Found existing installation: regex 2021.4.4\n",
      "    Uninstalling regex-2021.4.4:\n",
      "      Successfully uninstalled regex-2021.4.4\n",
      "Successfully installed regex-2023.12.25 tiktoken-0.5.2\n",
      "Collecting pypdf\n",
      "  Downloading pypdf-3.17.4-py3-none-any.whl (278 kB)\n",
      "\u001b[K     |████████████████████████████████| 278 kB 7.2 MB/s eta 0:00:01\n",
      "\u001b[?25hRequirement already satisfied: typing_extensions>=3.7.4.3 in /Users/irattse1/opt/anaconda3/lib/python3.8/site-packages (from pypdf) (4.9.0)\n",
      "Installing collected packages: pypdf\n",
      "Successfully installed pypdf-3.17.4\n",
      "Requirement already satisfied: psycopg2-binary in /Users/irattse1/opt/anaconda3/lib/python3.8/site-packages (2.9.9)\n",
      "Requirement already satisfied: pgvector in /Users/irattse1/opt/anaconda3/lib/python3.8/site-packages (0.2.4)\n",
      "Requirement already satisfied: numpy in /Users/irattse1/opt/anaconda3/lib/python3.8/site-packages (from pgvector) (1.24.4)\n"
     ]
    }
   ],
   "source": [
    "!  pip install pgvector\n",
    "! pip install langchain\n",
    "! pip install openai\n",
    "! pip install psycopg2-binary\n",
    "! pip install tiktoken\n",
    "! pip install pypdf\n",
    "!pip install psycopg2-binary pgvector\n",
    "\n"
   ]
  },
  {
   "cell_type": "code",
   "execution_count": 2,
   "metadata": {
    "id": "PHkF56OiRZTn"
   },
   "outputs": [],
   "source": [
    "# Load documents"
   ]
  },
  {
   "cell_type": "code",
   "execution_count": 1,
   "metadata": {
    "id": "esFe7ndLIosb"
   },
   "outputs": [],
   "source": [
    "import os\n",
    "from langchain.docstore.document import Document\n",
    "from langchain.document_loaders import TextLoader\n",
    "from langchain.embeddings.openai import OpenAIEmbeddings\n",
    "from langchain.text_splitter import CharacterTextSplitter\n",
    "from langchain.vectorstores.pgvector import PGVector\n",
    "from langchain.document_loaders import PyPDFLoader\n",
    "import psycopg2\n",
    "from langchain_community.document_loaders import UnstructuredURLLoader\n",
    "from langchain_community.document_loaders import SeleniumURLLoader\n",
    "import pandas as pd\n",
    "import numpy as np\n",
    "import openai"
   ]
  },
  {
   "cell_type": "code",
   "execution_count": 2,
   "metadata": {},
   "outputs": [],
   "source": [
    "url_file = pd.read_csv(\"URL List for Resources.csv\")\n",
    "urls = np.array(url_file['URL'])"
   ]
  },
  {
   "cell_type": "code",
   "execution_count": 39,
   "metadata": {},
   "outputs": [],
   "source": [
    "#urls = [\n",
    "#    \"https://www.womenshealth.gov/mental-health/mental-health-conditions/postpartum-depression\"\n",
    "#]\n",
    "\n",
    "#loader = UnstructuredURLLoader(urls=urls)\n",
    "#loader = SeleniumURLLoader(urls=urls)\n",
    "#all_documents = loader.load()"
   ]
  },
  {
   "cell_type": "code",
   "execution_count": 3,
   "metadata": {},
   "outputs": [
    {
     "name": "stdout",
     "output_type": "stream",
     "text": [
      "\n",
      "Loading raw document  1 ...\n"
     ]
    },
    {
     "name": "stderr",
     "output_type": "stream",
     "text": [
      "/Users/irattse1/opt/anaconda3/lib/python3.8/site-packages/scipy/__init__.py:138: UserWarning: A NumPy version >=1.16.5 and <1.23.0 is required for this version of SciPy (detected version 1.24.4)\n",
      "  warnings.warn(f\"A NumPy version >={np_minversion} and <{np_maxversion} is required for this version of \"\n"
     ]
    },
    {
     "name": "stdout",
     "output_type": "stream",
     "text": [
      "Splitting text...\n",
      "\n",
      "Loading raw document  2 ...\n",
      "Splitting text...\n",
      "\n",
      "Loading raw document  3 ...\n",
      "Splitting text...\n",
      "\n",
      "Loading raw document  4 ...\n"
     ]
    },
    {
     "name": "stderr",
     "output_type": "stream",
     "text": [
      "Created a chunk of size 836, which is longer than the specified 800\n",
      "Created a chunk of size 1144, which is longer than the specified 800\n",
      "Created a chunk of size 886, which is longer than the specified 800\n"
     ]
    },
    {
     "name": "stdout",
     "output_type": "stream",
     "text": [
      "Splitting text...\n",
      "\n",
      "Loading raw document  5 ...\n",
      "Splitting text...\n",
      "\n",
      "Loading raw document  6 ...\n",
      "Splitting text...\n",
      "\n",
      "Loading raw document  7 ...\n",
      "Splitting text...\n",
      "\n",
      "Loading raw document  8 ...\n"
     ]
    },
    {
     "name": "stderr",
     "output_type": "stream",
     "text": [
      "Created a chunk of size 4624, which is longer than the specified 800\n",
      "Created a chunk of size 844, which is longer than the specified 800\n",
      "Created a chunk of size 1835, which is longer than the specified 800\n",
      "Created a chunk of size 1549, which is longer than the specified 800\n",
      "Created a chunk of size 2811, which is longer than the specified 800\n",
      "Created a chunk of size 805, which is longer than the specified 800\n"
     ]
    },
    {
     "name": "stdout",
     "output_type": "stream",
     "text": [
      "Splitting text...\n",
      "\n",
      "Loading raw document  9 ...\n",
      "Splitting text...\n",
      "\n",
      "Loading raw document  10 ...\n",
      "Splitting text...\n",
      "\n",
      "Loading raw document  11 ...\n",
      "Splitting text...\n",
      "\n",
      "Loading raw document  12 ...\n"
     ]
    },
    {
     "name": "stderr",
     "output_type": "stream",
     "text": [
      "Created a chunk of size 1419, which is longer than the specified 800\n",
      "Created a chunk of size 830, which is longer than the specified 800\n"
     ]
    },
    {
     "name": "stdout",
     "output_type": "stream",
     "text": [
      "Splitting text...\n",
      "\n",
      "Loading raw document  13 ...\n",
      "Splitting text...\n",
      "\n",
      "Loading raw document  14 ...\n",
      "Splitting text...\n",
      "\n",
      "Loading raw document  15 ...\n",
      "Splitting text...\n",
      "\n",
      "Loading raw document  16 ...\n",
      "Splitting text...\n",
      "\n",
      "Loading raw document  17 ...\n",
      "Splitting text...\n",
      "\n",
      "Loading raw document  18 ...\n",
      "Splitting text...\n",
      "\n",
      "Loading raw document  19 ...\n",
      "Splitting text...\n",
      "\n",
      "Loading raw document  20 ...\n",
      "Splitting text...\n",
      "\n",
      "Loading raw document  21 ...\n"
     ]
    },
    {
     "name": "stderr",
     "output_type": "stream",
     "text": [
      "Created a chunk of size 1515, which is longer than the specified 800\n",
      "Created a chunk of size 853, which is longer than the specified 800\n"
     ]
    },
    {
     "name": "stdout",
     "output_type": "stream",
     "text": [
      "Splitting text...\n",
      "\n",
      "Loading raw document  22 ...\n",
      "Splitting text...\n",
      "\n",
      "Loading raw document  23 ...\n",
      "Splitting text...\n",
      "\n",
      "Loading raw document  24 ...\n",
      "Splitting text...\n",
      "\n",
      "Loading raw document  25 ...\n",
      "Splitting text...\n",
      "\n",
      "Loading raw document  26 ...\n"
     ]
    },
    {
     "name": "stderr",
     "output_type": "stream",
     "text": [
      "Created a chunk of size 813, which is longer than the specified 800\n"
     ]
    },
    {
     "name": "stdout",
     "output_type": "stream",
     "text": [
      "Splitting text...\n",
      "\n",
      "Loading raw document  27 ...\n",
      "Splitting text...\n",
      "\n",
      "Loading raw document  28 ...\n",
      "Splitting text...\n",
      "\n",
      "Loading raw document  29 ...\n",
      "Splitting text...\n",
      "\n",
      "Loading raw document  30 ...\n"
     ]
    },
    {
     "name": "stderr",
     "output_type": "stream",
     "text": [
      "Created a chunk of size 2760, which is longer than the specified 800\n",
      "Created a chunk of size 1027, which is longer than the specified 800\n"
     ]
    },
    {
     "name": "stdout",
     "output_type": "stream",
     "text": [
      "Splitting text...\n",
      "\n",
      "Loading raw document  31 ...\n",
      "Splitting text...\n",
      "\n",
      "Loading raw document  32 ...\n",
      "Splitting text...\n",
      "\n",
      "Loading raw document  33 ...\n",
      "Splitting text...\n",
      "\n",
      "Loading raw document  34 ...\n",
      "Splitting text...\n",
      "\n",
      "Loading raw document  35 ...\n"
     ]
    },
    {
     "name": "stderr",
     "output_type": "stream",
     "text": [
      "Created a chunk of size 935, which is longer than the specified 800\n"
     ]
    },
    {
     "name": "stdout",
     "output_type": "stream",
     "text": [
      "Splitting text...\n",
      "\n",
      "Loading raw document  36 ...\n"
     ]
    },
    {
     "name": "stderr",
     "output_type": "stream",
     "text": [
      "Created a chunk of size 3079, which is longer than the specified 800\n",
      "Created a chunk of size 1004, which is longer than the specified 800\n",
      "Created a chunk of size 1705, which is longer than the specified 800\n"
     ]
    },
    {
     "name": "stdout",
     "output_type": "stream",
     "text": [
      "Splitting text...\n",
      "\n",
      "Loading raw document  37 ...\n",
      "Splitting text...\n",
      "\n",
      "Loading raw document  38 ...\n"
     ]
    },
    {
     "name": "stderr",
     "output_type": "stream",
     "text": [
      "Created a chunk of size 1549, which is longer than the specified 800\n"
     ]
    },
    {
     "name": "stdout",
     "output_type": "stream",
     "text": [
      "Splitting text...\n",
      "\n",
      "Loading raw document  39 ...\n",
      "Splitting text...\n",
      "\n",
      "Loading raw document  40 ...\n",
      "Splitting text...\n",
      "\n",
      "Loading raw document  41 ...\n",
      "Splitting text...\n",
      "\n",
      "Loading raw document  42 ...\n",
      "Splitting text...\n",
      "\n",
      "Loading raw document  43 ...\n",
      "Splitting text...\n",
      "\n",
      "Loading raw document  44 ...\n",
      "Splitting text...\n",
      "\n",
      "Loading raw document  45 ...\n"
     ]
    },
    {
     "name": "stderr",
     "output_type": "stream",
     "text": [
      "Created a chunk of size 956, which is longer than the specified 800\n",
      "Created a chunk of size 814, which is longer than the specified 800\n",
      "Created a chunk of size 1022, which is longer than the specified 800\n",
      "Created a chunk of size 805, which is longer than the specified 800\n"
     ]
    },
    {
     "name": "stdout",
     "output_type": "stream",
     "text": [
      "Splitting text...\n",
      "\n",
      "Loading raw document  46 ...\n",
      "Splitting text...\n",
      "\n",
      "Loading raw document  47 ...\n"
     ]
    },
    {
     "name": "stderr",
     "output_type": "stream",
     "text": [
      "Created a chunk of size 1187, which is longer than the specified 800\n",
      "Created a chunk of size 809, which is longer than the specified 800\n",
      "Created a chunk of size 928, which is longer than the specified 800\n",
      "Created a chunk of size 815, which is longer than the specified 800\n"
     ]
    },
    {
     "name": "stdout",
     "output_type": "stream",
     "text": [
      "Splitting text...\n",
      "\n",
      "Loading raw document  48 ...\n",
      "Splitting text...\n",
      "\n",
      "Loading raw document  49 ...\n",
      "Splitting text...\n",
      "\n",
      "Loading raw document  50 ...\n",
      "Splitting text...\n",
      "\n",
      "Loading raw document  51 ...\n",
      "Splitting text...\n",
      "\n",
      "Loading raw document  52 ...\n",
      "Splitting text...\n",
      "\n",
      "Loading raw document  53 ...\n",
      "Splitting text...\n",
      "\n",
      "Loading raw document  54 ...\n",
      "Splitting text...\n",
      "\n",
      "Loading raw document  55 ...\n"
     ]
    },
    {
     "name": "stderr",
     "output_type": "stream",
     "text": [
      "Created a chunk of size 2374, which is longer than the specified 800\n",
      "Created a chunk of size 2952, which is longer than the specified 800\n"
     ]
    },
    {
     "name": "stdout",
     "output_type": "stream",
     "text": [
      "Splitting text...\n",
      "\n",
      "Loading raw document  56 ...\n",
      "Splitting text...\n",
      "\n",
      "Loading raw document  57 ...\n"
     ]
    },
    {
     "name": "stderr",
     "output_type": "stream",
     "text": [
      "Created a chunk of size 985, which is longer than the specified 800\n",
      "Created a chunk of size 814, which is longer than the specified 800\n"
     ]
    },
    {
     "name": "stdout",
     "output_type": "stream",
     "text": [
      "Splitting text...\n",
      "\n",
      "Loading raw document  58 ...\n",
      "Splitting text...\n",
      "\n",
      "Loading raw document  59 ...\n",
      "Splitting text...\n",
      "\n",
      "Loading raw document  60 ...\n",
      "Splitting text...\n",
      "\n",
      "Loading raw document  61 ...\n",
      "Splitting text...\n",
      "\n",
      "Loading raw document  62 ...\n",
      "Splitting text...\n",
      "\n",
      "Loading raw document  63 ...\n",
      "Splitting text...\n",
      "\n",
      "Loading raw document  64 ...\n",
      "Splitting text...\n",
      "\n",
      "Loading raw document  65 ...\n",
      "Splitting text...\n",
      "\n",
      "Loading raw document  66 ...\n",
      "Splitting text...\n",
      "\n",
      "Loading raw document  67 ...\n",
      "Splitting text...\n",
      "\n",
      "Loading raw document  68 ...\n"
     ]
    },
    {
     "name": "stderr",
     "output_type": "stream",
     "text": [
      "Created a chunk of size 1036, which is longer than the specified 800\n"
     ]
    },
    {
     "name": "stdout",
     "output_type": "stream",
     "text": [
      "Splitting text...\n",
      "\n",
      "Loading raw document  69 ...\n",
      "Splitting text...\n",
      "\n",
      "Loading raw document  70 ...\n",
      "Splitting text...\n",
      "\n",
      "Loading raw document  71 ...\n",
      "Splitting text...\n",
      "\n",
      "Loading raw document  72 ...\n",
      "Splitting text...\n",
      "\n",
      "Loading raw document  73 ...\n"
     ]
    },
    {
     "name": "stderr",
     "output_type": "stream",
     "text": [
      "Created a chunk of size 1051, which is longer than the specified 800\n"
     ]
    },
    {
     "name": "stdout",
     "output_type": "stream",
     "text": [
      "Splitting text...\n",
      "\n",
      "Loading raw document  74 ...\n",
      "Splitting text...\n",
      "\n",
      "Loading raw document  75 ...\n",
      "Splitting text...\n",
      "\n",
      "Loading raw document  76 ...\n",
      "Splitting text...\n",
      "\n",
      "Loading raw document  77 ...\n",
      "Splitting text...\n",
      "\n",
      "Loading raw document  78 ...\n",
      "Splitting text...\n",
      "\n",
      "Loading raw document  79 ...\n",
      "Splitting text...\n",
      "\n",
      "Loading raw document  80 ...\n",
      "Splitting text...\n",
      "\n",
      "Loading raw document  81 ...\n",
      "Splitting text...\n",
      "\n",
      "Loading raw document  82 ...\n"
     ]
    },
    {
     "name": "stderr",
     "output_type": "stream",
     "text": [
      "Created a chunk of size 866, which is longer than the specified 800\n"
     ]
    },
    {
     "name": "stdout",
     "output_type": "stream",
     "text": [
      "Splitting text...\n",
      "\n",
      "Loading raw document  83 ...\n",
      "Splitting text...\n",
      "\n",
      "Loading raw document  84 ...\n",
      "Splitting text...\n",
      "\n",
      "Loading raw document  85 ...\n"
     ]
    },
    {
     "name": "stderr",
     "output_type": "stream",
     "text": [
      "Created a chunk of size 883, which is longer than the specified 800\n"
     ]
    },
    {
     "name": "stdout",
     "output_type": "stream",
     "text": [
      "Splitting text...\n",
      "\n",
      "Loading raw document  86 ...\n"
     ]
    },
    {
     "name": "stderr",
     "output_type": "stream",
     "text": [
      "Created a chunk of size 1002, which is longer than the specified 800\n",
      "Created a chunk of size 876, which is longer than the specified 800\n"
     ]
    },
    {
     "name": "stdout",
     "output_type": "stream",
     "text": [
      "Splitting text...\n",
      "\n",
      "Loading raw document  87 ...\n",
      "Splitting text...\n",
      "\n",
      "Loading raw document  88 ...\n",
      "Splitting text...\n",
      "\n",
      "Loading raw document  89 ...\n",
      "Splitting text...\n",
      "\n",
      "Loading raw document  90 ...\n",
      "Splitting text...\n",
      "\n",
      "Loading raw document  91 ...\n"
     ]
    },
    {
     "name": "stderr",
     "output_type": "stream",
     "text": [
      "Created a chunk of size 882, which is longer than the specified 800\n",
      "Created a chunk of size 971, which is longer than the specified 800\n"
     ]
    },
    {
     "name": "stdout",
     "output_type": "stream",
     "text": [
      "Splitting text...\n",
      "\n",
      "Loading raw document  92 ...\n"
     ]
    },
    {
     "name": "stderr",
     "output_type": "stream",
     "text": [
      "Created a chunk of size 856, which is longer than the specified 800\n"
     ]
    },
    {
     "name": "stdout",
     "output_type": "stream",
     "text": [
      "Splitting text...\n",
      "\n",
      "Loading raw document  93 ...\n",
      "Splitting text...\n",
      "\n",
      "Loading raw document  94 ...\n",
      "Splitting text...\n",
      "\n",
      "Loading raw document  95 ...\n"
     ]
    },
    {
     "name": "stderr",
     "output_type": "stream",
     "text": [
      "Created a chunk of size 881, which is longer than the specified 800\n"
     ]
    },
    {
     "name": "stdout",
     "output_type": "stream",
     "text": [
      "Splitting text...\n",
      "\n",
      "Loading raw document  96 ...\n",
      "Splitting text...\n",
      "\n",
      "Loading raw document  97 ...\n"
     ]
    },
    {
     "name": "stderr",
     "output_type": "stream",
     "text": [
      "Created a chunk of size 814, which is longer than the specified 800\n"
     ]
    },
    {
     "name": "stdout",
     "output_type": "stream",
     "text": [
      "Splitting text...\n",
      "\n",
      "Loading raw document  98 ...\n",
      "Splitting text...\n",
      "\n",
      "Loading raw document  99 ...\n",
      "Splitting text...\n",
      "\n",
      "Loading raw document  100 ...\n",
      "Splitting text...\n",
      "\n",
      "Loading raw document  101 ...\n",
      "Splitting text...\n",
      "\n",
      "Loading raw document  102 ...\n",
      "Splitting text...\n",
      "\n",
      "Loading raw document  103 ...\n"
     ]
    },
    {
     "name": "stderr",
     "output_type": "stream",
     "text": [
      "Created a chunk of size 2768, which is longer than the specified 800\n",
      "Created a chunk of size 816, which is longer than the specified 800\n",
      "Created a chunk of size 982, which is longer than the specified 800\n",
      "Created a chunk of size 994, which is longer than the specified 800\n",
      "Created a chunk of size 1166, which is longer than the specified 800\n"
     ]
    },
    {
     "name": "stdout",
     "output_type": "stream",
     "text": [
      "Splitting text...\n",
      "\n",
      "Loading raw document  104 ...\n",
      "Splitting text...\n",
      "\n",
      "Loading raw document  105 ...\n",
      "Splitting text...\n",
      "\n",
      "Loading raw document  106 ...\n",
      "Splitting text...\n",
      "\n",
      "Loading raw document  107 ...\n",
      "Splitting text...\n",
      "\n",
      "Loading raw document  108 ...\n",
      "Splitting text...\n",
      "\n",
      "Loading raw document  109 ...\n",
      "Splitting text...\n",
      "\n",
      "Loading raw document  110 ...\n",
      "Splitting text...\n",
      "\n",
      "Loading raw document  111 ...\n",
      "Splitting text...\n",
      "\n",
      "Loading raw document  112 ...\n",
      "Splitting text...\n",
      "\n",
      "Loading raw document  113 ...\n",
      "Splitting text...\n",
      "\n",
      "Loading raw document  114 ...\n",
      "Splitting text...\n",
      "\n",
      "Loading raw document  115 ...\n",
      "Splitting text...\n",
      "\n",
      "Loading raw document  116 ...\n",
      "Splitting text...\n",
      "\n",
      "Loading raw document  117 ...\n"
     ]
    },
    {
     "name": "stderr",
     "output_type": "stream",
     "text": [
      "Created a chunk of size 1010, which is longer than the specified 800\n",
      "Created a chunk of size 1475, which is longer than the specified 800\n",
      "Created a chunk of size 814, which is longer than the specified 800\n",
      "Created a chunk of size 1078, which is longer than the specified 800\n"
     ]
    },
    {
     "name": "stdout",
     "output_type": "stream",
     "text": [
      "Splitting text...\n",
      "\n",
      "Loading raw document  118 ...\n"
     ]
    },
    {
     "name": "stderr",
     "output_type": "stream",
     "text": [
      "Created a chunk of size 811, which is longer than the specified 800\n"
     ]
    },
    {
     "name": "stdout",
     "output_type": "stream",
     "text": [
      "Splitting text...\n",
      "\n",
      "Loading raw document  119 ...\n",
      "Splitting text...\n",
      "\n",
      "Loading raw document  120 ...\n",
      "Splitting text...\n"
     ]
    }
   ],
   "source": [
    "#urls = [[\"https://www.womenshealth.gov/mental-health/mental-health-conditions/postpartum-depression\"]]\n",
    "ct = 1\n",
    "all_documents = []\n",
    "\n",
    "for url in urls:\n",
    "    url_array = [url]\n",
    "    print(\"\\nLoading raw document \", ct, \"...\")\n",
    "    loader = SeleniumURLLoader(urls=url_array)\n",
    "    raw_documents = loader.load()\n",
    "    \n",
    "    print(\"Splitting text...\")\n",
    "    text_splitter = CharacterTextSplitter(\n",
    "        separator=\"\\n\\n\",\n",
    "        chunk_size=800,\n",
    "        chunk_overlap=100,\n",
    "        length_function=len,\n",
    "    )\n",
    "    \n",
    "    documents = text_splitter.split_documents(raw_documents)\n",
    "    all_documents.extend(documents)\n",
    "    \n",
    "    ct += 1"
   ]
  },
  {
   "cell_type": "code",
   "execution_count": 4,
   "metadata": {},
   "outputs": [
    {
     "name": "stdout",
     "output_type": "stream",
     "text": [
      "e9d0c59737057d2760aa77c2159518a54456cddd9bab7b0da80437ede3f10f68\r\n"
     ]
    }
   ],
   "source": [
    "! docker run --name pgvector -p 5432:5432 -v \"./init.sql:/docker-entrypoint-initdb.d/init.sql\" -e POSTGRES_PASSWORD=temp -e POSTGRES_USER=user -e POSTGRES_DB=vectordb -d ankane/pgvector"
   ]
  },
  {
   "cell_type": "code",
   "execution_count": 5,
   "metadata": {},
   "outputs": [
    {
     "name": "stdout",
     "output_type": "stream",
     "text": [
      "CONTAINER ID   IMAGE             COMMAND                  CREATED         STATUS                  PORTS                    NAMES\r\n",
      "e9d0c5973705   ankane/pgvector   \"docker-entrypoint.s…\"   2 seconds ago   Up Less than a second   0.0.0.0:5432->5432/tcp   pgvector\r\n"
     ]
    }
   ],
   "source": [
    "! docker ps -a\n"
   ]
  },
  {
   "cell_type": "code",
   "execution_count": 10,
   "metadata": {},
   "outputs": [],
   "source": [
    "#! docker logs b7803b1f0b0f"
   ]
  },
  {
   "cell_type": "code",
   "execution_count": 6,
   "metadata": {},
   "outputs": [
    {
     "name": "stdout",
     "output_type": "stream",
     "text": [
      "OpenAI API Key:········\n"
     ]
    }
   ],
   "source": [
    "import getpass\n",
    "import os\n",
    "\n",
    "os.environ[\"OPENAI_API_KEY\"] = getpass.getpass(\"OpenAI API Key:\")\n",
    "\n"
   ]
  },
  {
   "cell_type": "code",
   "execution_count": 7,
   "metadata": {},
   "outputs": [
    {
     "name": "stdout",
     "output_type": "stream",
     "text": [
      "Creating vectorstore...\n"
     ]
    }
   ],
   "source": [
    "print(\"Creating vectorstore...\")\n",
    "embeddings = OpenAIEmbeddings()\n"
   ]
  },
  {
   "cell_type": "code",
   "execution_count": 8,
   "metadata": {
    "id": "ODVatOhFJYSd"
   },
   "outputs": [],
   "source": [
    "# PGVector needs the connection string to the database.\n",
    "#CONNECTION_STRING = \"postgresql+psycopg2://mnig@localhost:5432/strolr_resources\"\n",
    "\n",
    "# # Alternatively, you can create it from environment variables.\n",
    "import os\n",
    "CONNECTION_STRING = PGVector.connection_string_from_db_params(\n",
    "     driver=os.environ.get(\"PGVECTOR_DRIVER\", \"psycopg2\"),\n",
    "     host=os.environ.get(\"PGVECTOR_HOST\", \"localhost\"),\n",
    "     port=int(os.environ.get(\"PGVECTOR_PORT\", \"5432\")),\n",
    "     database=os.environ.get(\"PGVECTOR_DATABASE\", \"vectordb\"),\n",
    "     user=os.environ.get(\"PGVECTOR_USER\", \"user\"),\n",
    "     password=os.environ.get(\"PGVECTOR_PASSWORD\", \"temp\"),\n",
    ")\n",
    "\n"
   ]
  },
  {
   "cell_type": "code",
   "execution_count": 9,
   "metadata": {},
   "outputs": [],
   "source": [
    "# The PGVector Module will try to create a table with the name of the collection.\n",
    "# So, make sure that the collection name is unique and the user has the permission to create a table.\n",
    "\n",
    "COLLECTION_NAME = \"strolr_test\"\n",
    "\n",
    "db = PGVector.from_documents(\n",
    "    embedding=embeddings,\n",
    "    documents=all_documents,\n",
    "    collection_name=COLLECTION_NAME,\n",
    "    connection_string=CONNECTION_STRING,\n",
    ")\n",
    "\n",
    "\n"
   ]
  },
  {
   "cell_type": "code",
   "execution_count": 156,
   "metadata": {},
   "outputs": [
    {
     "data": {
      "text/plain": [
       "<langchain_community.vectorstores.pgvector.PGVector at 0x7fc2098709a0>"
      ]
     },
     "execution_count": 156,
     "metadata": {},
     "output_type": "execute_result"
    }
   ],
   "source": [
    "db"
   ]
  },
  {
   "cell_type": "code",
   "execution_count": 148,
   "metadata": {},
   "outputs": [],
   "source": [
    "#query = \"What should I do if I have a post-partum depression?\"\n",
    "query = \"Is it safe for my unborn baby if I eat raw fish during pregnancy?\"\n",
    "similar = db.similarity_search_with_score(query, k=3)"
   ]
  },
  {
   "cell_type": "code",
   "execution_count": 157,
   "metadata": {},
   "outputs": [],
   "source": [
    "vector = embeddings.embed_query(query)"
   ]
  },
  {
   "cell_type": "code",
   "execution_count": 61,
   "metadata": {},
   "outputs": [],
   "source": [
    "#conn = psycopg2.connect(database=\"vectordb\",\n",
    "#                            user=\"user\",\n",
    "#                            password=\"temp\",\n",
    "#                            host=\"localhost\",\n",
    "#                            port=\"5432\")"
   ]
  },
  {
   "cell_type": "code",
   "execution_count": 62,
   "metadata": {},
   "outputs": [],
   "source": [
    "#cur = conn.cursor()\n"
   ]
  },
  {
   "cell_type": "code",
   "execution_count": 82,
   "metadata": {},
   "outputs": [],
   "source": [
    "#cur.execute(\"\"\"\n",
    "#CREATE DATABASE vector_db;\n",
    "#\"\"\")"
   ]
  },
  {
   "cell_type": "code",
   "execution_count": 113,
   "metadata": {},
   "outputs": [],
   "source": [
    "#cur.execute(\"\"\"\n",
    "#CREATE EXTENSION pgvector;;\n",
    "#\"\"\")"
   ]
  },
  {
   "cell_type": "code",
   "execution_count": 48,
   "metadata": {},
   "outputs": [
    {
     "ename": "SyntaxError",
     "evalue": "invalid syntax (<ipython-input-48-f60a1c80da2b>, line 1)",
     "output_type": "error",
     "traceback": [
      "\u001b[0;36m  File \u001b[0;32m\"<ipython-input-48-f60a1c80da2b>\"\u001b[0;36m, line \u001b[0;32m1\u001b[0m\n\u001b[0;31m    SELECT document, (embedding <=> vector) as cosine_distance\u001b[0m\n\u001b[0m           ^\u001b[0m\n\u001b[0;31mSyntaxError\u001b[0m\u001b[0;31m:\u001b[0m invalid syntax\n"
     ]
    }
   ],
   "source": [
    "#SELECT document, (embedding <=> vector) as cosine_distance\n",
    "#FROM langchain_pg_embedding \n",
    "#ORDER BY cosine_distance\n",
    "#LIMIT 2;"
   ]
  },
  {
   "cell_type": "code",
   "execution_count": 150,
   "metadata": {
    "scrolled": true
   },
   "outputs": [
    {
     "name": "stdout",
     "output_type": "stream",
     "text": [
      "(Document(page_content='Advice Regarding Seafood\\n\\nWomen who are pregnant or may become pregnant—as well as breastfeeding mothers and parents of young children – should make informed choices when it comes to seafood. Fish is one source of high quality protein, minerals, and vitamins that are beneficial to overall health. However, it is important to choose fish that are safe to eat and offer health benefits. Follow FDA and EPA’s advice on eating fish by using this chart and a set of frequently asked questions and answers to choose healthy and safe options.\\n\\nCook seafood thoroughly: All seafood dishes should be cooked to 145°F (63°C). Raw seafood may contain parasites or bacteria, including Listeria, that can make pregnant women ill and could potentially harm their babies. This means that you should avoid:\\n\\nSushi', metadata={'source': 'https://www.foodsafety.gov/people-at-risk/pregnant-women', 'title': 'People at Risk: Pregnant Women | FoodSafety.gov', 'description': '\\xa0 Read guidelines from foodsafety.gov about foods that pregnant women should and should not eat to avoid foodborne illness.', 'language': 'en'}), 0.1169475843341583)\n",
      "\n",
      "\n",
      "(Document(page_content='Advice Regarding Seafood\\n\\nWomen who are pregnant or may become pregnant—as well as breastfeeding mothers and parents of young children – should make informed choices when it comes to seafood. Fish is one source of high quality protein, minerals, and vitamins that are beneficial to overall health. However, it is important to choose fish that are safe to eat and offer health benefits. Follow FDA and EPA’s advice on eating fish by using this chart and a set of frequently asked questions and answers to choose healthy and safe options.\\n\\nCook seafood thoroughly: All seafood dishes should be cooked to 145°F (63°C). Raw seafood may contain parasites or bacteria, including Listeria, that can make pregnant women ill and could potentially harm their babies. This means that you should avoid:\\n\\nSushi', metadata={'source': 'https://www.foodsafety.gov/people-at-risk/pregnant-women', 'title': 'People at Risk: Pregnant Women | FoodSafety.gov', 'description': '\\xa0 Read guidelines from foodsafety.gov about foods that pregnant women should and should not eat to avoid foodborne illness.', 'language': 'en'}), 0.1169475843341583)\n",
      "\n",
      "\n",
      "(Document(page_content=\"Eat 8 to 12 ounces of seafood each week.\\n\\nFish and shellfish have healthy fats that are good for you and your baby. But some seafood is high in mercury, a metal that can harm your baby’s development. It’s a good idea to eat seafood that’s high in healthy fats but lower in mercury.\\n\\nLearn how to choose fish that's healthy and safe to eat.\\n\\nDon’t eat certain foods.\\n\\nThese foods may have bacteria in them that can hurt your baby. Stay away from:\\n\\nRaw (uncooked) or rare (undercooked) fish or shellfish, like sushi or raw oysters\\n\\nRaw or rare\\xa0meats, poultry, or eggs\\n\\nUnpasteurized juice, milk, or cheese — make sure it says “pasteurized” on the label\\n\\nLunch or deli meats, smoked seafood, and hot dogs — unless they’re heated until steaming hot (165 °F, or degrees Fahrenheit)\", metadata={'source': 'https://health.gov/myhealthfinder/pregnancy/nutrition-and-physical-activity/eat-healthy-during-pregnancy-quick-tips', 'title': 'Eat Healthy During Pregnancy: Quick tips - MyHealthfinder | health.gov', 'description': 'Making smart food choices can help women have healthy pregnancies and healthy babies. Share these tips to help pregnant women eat healthy.', 'language': 'en'}), 0.11935631286686865)\n",
      "\n",
      "\n"
     ]
    }
   ],
   "source": [
    "for doc in similar:\n",
    "    print(doc)\n",
    "    print('\\n')"
   ]
  },
  {
   "cell_type": "code",
   "execution_count": 88,
   "metadata": {},
   "outputs": [
    {
     "data": {
      "text/plain": [
       "Document(page_content='How do I know if I have postpartum depression?\\n\\nSome normal changes after pregnancy can cause symptoms similar to those of depression. Many mothers feel overwhelmed when a new baby comes home. But if you have any of the following symptoms of depression for more than 2 weeks, call your doctor, nurse, or midwife:\\n\\nFeeling angry or moody\\n\\nFeeling sad or hopeless\\n\\nFeeling guilty, shameful, or worthless\\n\\nEating more or less than usual\\n\\nSleeping more or less than usual\\n\\nUnusual crying or sadness\\n\\nLoss of interest, joy, or pleasure in thing you used to enjoy\\n\\nWithdrawing from friends and family\\n\\nPossible thoughts of harming the baby or yourself', metadata={'source': 'https://www.womenshealth.gov/mental-health/mental-health-conditions/postpartum-depression', 'title': \"Postpartum depression | Office on Women's Health\", 'description': 'No description found.', 'language': 'en'})"
      ]
     },
     "execution_count": 88,
     "metadata": {},
     "output_type": "execute_result"
    }
   ],
   "source": [
    "similar[0][0]"
   ]
  },
  {
   "cell_type": "code",
   "execution_count": 151,
   "metadata": {},
   "outputs": [],
   "source": [
    "def summarize_doc(query, resources):\n",
    "\n",
    "    messages = [{\"role\": \"system\",\n",
    "                 \"content\": \"You are acting as a friendly clinician who is speaking to a patient. Do not say you are an AI.\"}]\n",
    "\n",
    "    prompt = \"\"\"Answer the user's prompt or question:\n",
    "\n",
    "    {query}\n",
    "\n",
    "    by summarizing the following 3 texts:\n",
    "    \n",
    "    {resource1}\n",
    "    \n",
    "    {resource2}\n",
    "    \n",
    "    {resource3}\n",
    "\n",
    "    Keep your answer direct and concise. Use only the information in the provided text to answer the query.\"\"\".format(query=query, resource1=resources[0][0].page_content, resource2=resources[1][0].page_content, resource3=resources[2][0].page_content)\n",
    "\n",
    "    messages.append({\"role\": \"user\", \"content\": prompt})\n",
    "\n",
    "    response = client.chat.completions.create(model=\"gpt-3.5-turbo\", messages=messages)\n",
    "    #return response.choices[0][\"message\"][\"content\"]\n",
    "    return response"
   ]
  },
  {
   "cell_type": "code",
   "execution_count": 152,
   "metadata": {},
   "outputs": [],
   "source": [
    "from openai import OpenAI\n",
    "client = OpenAI()\n",
    "response = summarize_doc(query, similar)"
   ]
  },
  {
   "cell_type": "code",
   "execution_count": 153,
   "metadata": {},
   "outputs": [
    {
     "data": {
      "text/plain": [
       "'It is not safe to eat raw fish, such as sushi, during pregnancy. Raw seafood may contain parasites or bacteria that can make pregnant women ill and potentially harm their babies. It is important to cook seafood thoroughly to a temperature of 145°F (63°C) to ensure it is safe to eat.'"
      ]
     },
     "execution_count": 153,
     "metadata": {},
     "output_type": "execute_result"
    }
   ],
   "source": [
    "response.choices[0].message.content"
   ]
  },
  {
   "cell_type": "code",
   "execution_count": 154,
   "metadata": {},
   "outputs": [
    {
     "data": {
      "text/plain": [
       "'Advice Regarding Seafood\\n\\nWomen who are pregnant or may become pregnant—as well as breastfeeding mothers and parents of young children – should make informed choices when it comes to seafood. Fish is one source of high quality protein, minerals, and vitamins that are beneficial to overall health. However, it is important to choose fish that are safe to eat and offer health benefits. Follow FDA and EPA’s advice on eating fish by using this chart and a set of frequently asked questions and answers to choose healthy and safe options.\\n\\nCook seafood thoroughly: All seafood dishes should be cooked to 145°F (63°C). Raw seafood may contain parasites or bacteria, including Listeria, that can make pregnant women ill and could potentially harm their babies. This means that you should avoid:\\n\\nSushi'"
      ]
     },
     "execution_count": 154,
     "metadata": {},
     "output_type": "execute_result"
    }
   ],
   "source": [
    "similar[0][0].page_content"
   ]
  },
  {
   "cell_type": "code",
   "execution_count": 158,
   "metadata": {},
   "outputs": [
    {
     "data": {
      "text/plain": [
       "<langchain_community.vectorstores.pgvector.PGVector at 0x7fc2098709a0>"
      ]
     },
     "execution_count": 158,
     "metadata": {},
     "output_type": "execute_result"
    }
   ],
   "source": [
    "db"
   ]
  },
  {
   "cell_type": "code",
   "execution_count": null,
   "metadata": {},
   "outputs": [],
   "source": []
  }
 ],
 "metadata": {
  "colab": {
   "provenance": []
  },
  "kernelspec": {
   "display_name": "Python 3",
   "language": "python",
   "name": "python3"
  },
  "language_info": {
   "codemirror_mode": {
    "name": "ipython",
    "version": 3
   },
   "file_extension": ".py",
   "mimetype": "text/x-python",
   "name": "python",
   "nbconvert_exporter": "python",
   "pygments_lexer": "ipython3",
   "version": "3.8.8"
  }
 },
 "nbformat": 4,
 "nbformat_minor": 1
}
